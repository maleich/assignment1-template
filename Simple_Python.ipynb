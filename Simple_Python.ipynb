{
  "nbformat": 4,
  "nbformat_minor": 0,
  "metadata": {
    "colab": {
      "name": "Simple Python.ipynb",
      "provenance": [],
      "collapsed_sections": [],
      "include_colab_link": true
    },
    "kernelspec": {
      "name": "python3",
      "display_name": "Python 3"
    }
  },
  "cells": [
    {
      "cell_type": "markdown",
      "metadata": {
        "id": "view-in-github",
        "colab_type": "text"
      },
      "source": [
        "<a href=\"https://colab.research.google.com/github/athenian-cs-unplugged/assignment1-template/blob/master/Simple_Python.ipynb\" target=\"_parent\"><img src=\"https://colab.research.google.com/assets/colab-badge.svg\" alt=\"Open In Colab\"/></a>"
      ]
    },
    {
      "cell_type": "markdown",
      "metadata": {
        "id": "xGKFy7W3M3pg",
        "colab_type": "text"
      },
      "source": [
        "# This is also a Title\n",
        "\n",
        "**This is a test**"
      ]
    },
    {
      "cell_type": "code",
      "metadata": {
        "id": "rCxB6mm9NCRT",
        "colab_type": "code",
        "colab": {}
      },
      "source": [
        "a = 4 + 5\n",
        "print(a)\n"
      ],
      "execution_count": 0,
      "outputs": []
    },
    {
      "cell_type": "code",
      "metadata": {
        "id": "N7hBZHO40Urd",
        "colab_type": "code",
        "colab": {}
      },
      "source": [
        ""
      ],
      "execution_count": 0,
      "outputs": []
    },
    {
      "cell_type": "markdown",
      "metadata": {
        "id": "8rQepk_n0Vv4",
        "colab_type": "text"
      },
      "source": [
        "This an additional item"
      ]
    },
    {
      "cell_type": "markdown",
      "metadata": {
        "id": "D5yvY5K800Of",
        "colab_type": "text"
      },
      "source": [
        "And again"
      ]
    }
  ]
}